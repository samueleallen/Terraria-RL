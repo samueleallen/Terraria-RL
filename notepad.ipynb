{
 "cells": [
  {
   "cell_type": "markdown",
   "id": "743c7c15",
   "metadata": {},
   "source": [
    "## Notes\n",
    "Since this is a learning project, I want to take notes of important discoveries along the way. \n",
    "\n",
    "#### Object Detection\n",
    "\n",
    "\n",
    "#### Model Training\n",
    "\n",
    "#### Reinforcement Learning"
   ]
  }
 ],
 "metadata": {
  "language_info": {
   "name": "python"
  }
 },
 "nbformat": 4,
 "nbformat_minor": 5
}
