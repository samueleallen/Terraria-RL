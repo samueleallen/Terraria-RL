{
 "cells": [
  {
   "cell_type": "markdown",
   "id": "1cc30712",
   "metadata": {},
   "source": [
    "## Dataset Preparation\n",
    "\n",
    "To prepare for our supervised image classification project, we will download the images in the scraped dataset from the image links and store them in new class folders for training (e.g., `/dataset/Tool`, `/dataset/Weapon`, etc.)\n",
    "\n",
    "The following is a relatively simple script to loop through out scraped database, downloading each image along the way and creating the appropriate directories."
   ]
  },
  {
   "cell_type": "code",
   "execution_count": 1,
   "id": "34393590",
   "metadata": {},
   "outputs": [
    {
     "name": "stderr",
     "output_type": "stream",
     "text": [
      " 68%|██████▊   | 3707/5455 [08:29<02:15, 12.90it/s]"
     ]
    },
    {
     "name": "stdout",
     "output_type": "stream",
     "text": [
      "Failed to download nan: Invalid URL 'nan': No scheme supplied. Perhaps you meant https://nan?\n",
      "Failed to download nan: Invalid URL 'nan': No scheme supplied. Perhaps you meant https://nan?\n"
     ]
    },
    {
     "name": "stderr",
     "output_type": "stream",
     "text": [
      " 71%|███████   | 3852/5455 [08:46<01:28, 18.06it/s]"
     ]
    },
    {
     "name": "stdout",
     "output_type": "stream",
     "text": [
      "Failed to download nan: Invalid URL 'nan': No scheme supplied. Perhaps you meant https://nan?\n",
      "Failed to download nan: Invalid URL 'nan': No scheme supplied. Perhaps you meant https://nan?\n",
      "Failed to download nan: Invalid URL 'nan': No scheme supplied. Perhaps you meant https://nan?\n",
      "Failed to download nan: Invalid URL 'nan': No scheme supplied. Perhaps you meant https://nan?\n",
      "Failed to download nan: Invalid URL 'nan': No scheme supplied. Perhaps you meant https://nan?\n",
      "Failed to download nan: Invalid URL 'nan': No scheme supplied. Perhaps you meant https://nan?\n"
     ]
    },
    {
     "name": "stderr",
     "output_type": "stream",
     "text": [
      " 71%|███████   | 3863/5455 [08:47<02:03, 12.90it/s]"
     ]
    },
    {
     "name": "stdout",
     "output_type": "stream",
     "text": [
      "Failed to download nan: Invalid URL 'nan': No scheme supplied. Perhaps you meant https://nan?\n",
      "Failed to download nan: Invalid URL 'nan': No scheme supplied. Perhaps you meant https://nan?\n"
     ]
    },
    {
     "name": "stderr",
     "output_type": "stream",
     "text": [
      " 73%|███████▎  | 3979/5455 [09:02<02:19, 10.57it/s]"
     ]
    },
    {
     "name": "stdout",
     "output_type": "stream",
     "text": [
      "Failed to download nan: Invalid URL 'nan': No scheme supplied. Perhaps you meant https://nan?\n"
     ]
    },
    {
     "name": "stderr",
     "output_type": "stream",
     "text": [
      " 76%|███████▌  | 4144/5455 [09:24<02:15,  9.69it/s]"
     ]
    },
    {
     "name": "stdout",
     "output_type": "stream",
     "text": [
      "Failed to download nan: Invalid URL 'nan': No scheme supplied. Perhaps you meant https://nan?\n"
     ]
    },
    {
     "name": "stderr",
     "output_type": "stream",
     "text": [
      " 82%|████████▏ | 4485/5455 [10:09<02:33,  6.33it/s]"
     ]
    },
    {
     "name": "stdout",
     "output_type": "stream",
     "text": [
      "Failed to download https://static.wikia.nocookie.net/terraria_gamepedia/images/b/b9/1_2_Second_Timer.png/revision/latest?cb=20200519023912: [Errno 2] No such file or directory: 'dataset/Mechanism/1/2_Second_Timer_4483.png'\n",
      "Failed to download https://static.wikia.nocookie.net/terraria_gamepedia/images/1/10/1_4_Second_Timer.png/revision/latest?cb=20200519024022: [Errno 2] No such file or directory: 'dataset/Mechanism/1/4_Second_Timer_4484.png'\n"
     ]
    },
    {
     "name": "stderr",
     "output_type": "stream",
     "text": [
      " 87%|████████▋ | 4723/5455 [10:39<01:08, 10.64it/s]"
     ]
    },
    {
     "name": "stdout",
     "output_type": "stream",
     "text": [
      "Failed to download nan: Invalid URL 'nan': No scheme supplied. Perhaps you meant https://nan?\n"
     ]
    },
    {
     "name": "stderr",
     "output_type": "stream",
     "text": [
      " 92%|█████████▏| 5014/5455 [11:17<00:43, 10.25it/s]"
     ]
    },
    {
     "name": "stdout",
     "output_type": "stream",
     "text": [
      "Failed to download nan: Invalid URL 'nan': No scheme supplied. Perhaps you meant https://nan?\n"
     ]
    },
    {
     "name": "stderr",
     "output_type": "stream",
     "text": [
      " 97%|█████████▋| 5309/5455 [11:56<00:23,  6.10it/s]"
     ]
    },
    {
     "name": "stdout",
     "output_type": "stream",
     "text": [
      "Failed to download https://static.wikia.nocookie.net/terraria_gamepedia/images/d/d5/R_Terraria.png/revision/latest?cb=20231030154026: [Errno 2] No such file or directory: 'dataset/Furniture/r/Terraria_5307.png'\n"
     ]
    },
    {
     "name": "stderr",
     "output_type": "stream",
     "text": [
      "100%|██████████| 5455/5455 [12:16<00:00,  7.41it/s]\n"
     ]
    }
   ],
   "source": [
    "import pandas as pd\n",
    "import os\n",
    "import requests\n",
    "from tqdm import tqdm\n",
    "\n",
    "df = pd.read_csv(\"items.csv\")\n",
    "\n",
    "# Make each directory\n",
    "classes = df['Type'].unique()\n",
    "for cls in classes:\n",
    "    os.makedirs(f'dataset/{cls}', exist_ok=True)\n",
    "\n",
    "# Download each image\n",
    "for i, row in tqdm(df.iterrows(), total=len(df)):\n",
    "    url = row['Image']\n",
    "    label = row['Type']\n",
    "    name = row['Name'].replace(\" \",\"_\") + f\"_{i}.png\" # Adhere name to classic file naming conventions\n",
    "\n",
    "    try:\n",
    "        req = requests.get(url, timeout=5)\n",
    "        if req.status_code == 200:\n",
    "            with open(f'dataset/{label}/{name}', 'wb') as f:\n",
    "                f.write(req.content)\n",
    "    except Exception as e:\n",
    "        print(f\"Failed to download {url}: {e}\")"
   ]
  }
 ],
 "metadata": {
  "kernelspec": {
   "display_name": "base",
   "language": "python",
   "name": "python3"
  },
  "language_info": {
   "codemirror_mode": {
    "name": "ipython",
    "version": 3
   },
   "file_extension": ".py",
   "mimetype": "text/x-python",
   "name": "python",
   "nbconvert_exporter": "python",
   "pygments_lexer": "ipython3",
   "version": "3.12.7"
  }
 },
 "nbformat": 4,
 "nbformat_minor": 5
}
