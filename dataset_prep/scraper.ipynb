{
 "cells": [
  {
   "cell_type": "markdown",
   "id": "55117581",
   "metadata": {},
   "source": [
    "## Terraria Webscraper\n",
    "\n",
    "The following code scrapes from the terraria wiki found [here](https://terraria.fandom.com/wiki/Item_IDs)\n",
    "\n",
    "We gather the following data on each item:\n",
    " * Name of item (as referred to in game)\n",
    " * Image associated with item (as displayed in game)\n",
    " * Item ID\n",
    " * Type of Item (Requires some extra work to get)"
   ]
  },
  {
   "cell_type": "code",
   "execution_count": 1,
   "id": "9918d23e",
   "metadata": {},
   "outputs": [
    {
     "name": "stdout",
     "output_type": "stream",
     "text": [
      "{'ID': '1', 'Name': 'Iron Pickaxe', 'Image': 'https://static.wikia.nocookie.net/terraria_gamepedia/images/a/a2/Iron_Pickaxe.png/revision/latest?cb=20200516214316', 'Link': 'https://terraria.fandom.com/wiki/Iron_Pickaxe'}\n",
      "{'ID': '2', 'Name': 'Dirt Block', 'Image': 'https://static.wikia.nocookie.net/terraria_gamepedia/images/5/55/Dirt_Block.png/revision/latest?cb=20200516211400', 'Link': 'https://terraria.fandom.com/wiki/Dirt_Block'}\n",
      "{'ID': '3', 'Name': 'Stone Block', 'Image': 'https://static.wikia.nocookie.net/terraria_gamepedia/images/3/37/Stone_Block.png/revision/latest?cb=20200516222613', 'Link': 'https://terraria.fandom.com/wiki/Stone_Block'}\n",
      "{'ID': '4', 'Name': 'Iron Broadsword', 'Image': 'https://static.wikia.nocookie.net/terraria_gamepedia/images/c/cf/Iron_Broadsword.png/revision/latest?cb=20221121015053', 'Link': 'https://terraria.fandom.com/wiki/Iron_Broadsword'}\n",
      "{'ID': '5', 'Name': 'Mushroom', 'Image': 'https://static.wikia.nocookie.net/terraria_gamepedia/images/8/8c/Mushroom.png/revision/latest?cb=20200516215553', 'Link': 'https://terraria.fandom.com/wiki/Mushroom'}\n"
     ]
    }
   ],
   "source": [
    "import pandas as pd\n",
    "from bs4 import BeautifulSoup\n",
    "import requests\n",
    "\n",
    "url = \"https://terraria.fandom.com/wiki/Item_IDs\"\n",
    "data = requests.get(url)\n",
    "\n",
    "soup = BeautifulSoup(data.text, 'html.parser')\n",
    "table = soup.find('table', class_=['lined', 'sortable', 'jquery-tablesorter'])\n",
    "\n",
    "results = []\n",
    "\n",
    "if table:\n",
    "    rows = table.find_all('tr')\n",
    "    for row in rows[1:]:\n",
    "        cols = row.find_all('td')\n",
    "        # Store item id, name, and image link\n",
    "        item_id = cols[0].text.strip()\n",
    "        name = cols[2].text.strip()\n",
    "        img = cols[1].find('img')\n",
    "\n",
    "        # Case 1: Image has a gif and img associated with it, so we check data-src for actual static img url\n",
    "        image_url = img.get('data-src') if img else None\n",
    "        # Case 2: Image has no gif, so we just get img src tag\n",
    "        if not image_url and img:\n",
    "            image_url = img.get('src')\n",
    "\n",
    "        # Also fetch each item's page link for future web scraping purposes\n",
    "        link_element = cols[2].find('a')\n",
    "        item_url = link_element.get('href') if link_element else None\n",
    "        item_url = f'https://terraria.fandom.com{item_url}'\n",
    "\n",
    "        results.append({'ID': item_id, 'Name': name, 'Image': image_url, 'Link': item_url})\n",
    "\n",
    "for result in results[:5]:\n",
    "    print(result)\n"
   ]
  },
  {
   "cell_type": "markdown",
   "id": "5f27ae4b",
   "metadata": {},
   "source": [
    "### Further Scraping\n",
    "\n",
    "So far, we have item ID, item Name, static image links, and item page links. Next, we would like the type of each item.\n",
    "\n",
    "To get this, some extra webscraping is needed."
   ]
  },
  {
   "cell_type": "code",
   "execution_count": null,
   "id": "eb0d72f4",
   "metadata": {},
   "outputs": [
    {
     "name": "stdout",
     "output_type": "stream",
     "text": [
      "{'ID': '1', 'Name': 'Iron Pickaxe', 'Image': 'https://static.wikia.nocookie.net/terraria_gamepedia/images/a/a2/Iron_Pickaxe.png/revision/latest?cb=20200516214316', 'Link': 'https://terraria.fandom.com/wiki/Iron_Pickaxe', 'Type': 'Tool'}\n",
      "{'ID': '2', 'Name': 'Dirt Block', 'Image': 'https://static.wikia.nocookie.net/terraria_gamepedia/images/5/55/Dirt_Block.png/revision/latest?cb=20200516211400', 'Link': 'https://terraria.fandom.com/wiki/Dirt_Block', 'Type': 'Block'}\n",
      "{'ID': '3', 'Name': 'Stone Block', 'Image': 'https://static.wikia.nocookie.net/terraria_gamepedia/images/3/37/Stone_Block.png/revision/latest?cb=20200516222613', 'Link': 'https://terraria.fandom.com/wiki/Stone_Block', 'Type': 'Block'}\n",
      "{'ID': '4', 'Name': 'Iron Broadsword', 'Image': 'https://static.wikia.nocookie.net/terraria_gamepedia/images/c/cf/Iron_Broadsword.png/revision/latest?cb=20221121015053', 'Link': 'https://terraria.fandom.com/wiki/Iron_Broadsword', 'Type': 'Weapon'}\n",
      "{'ID': '5', 'Name': 'Mushroom', 'Image': 'https://static.wikia.nocookie.net/terraria_gamepedia/images/8/8c/Mushroom.png/revision/latest?cb=20200516215553', 'Link': 'https://terraria.fandom.com/wiki/Mushroom', 'Type': 'Potion'}\n"
     ]
    }
   ],
   "source": [
    "import time\n",
    "for result in results:\n",
    "    url = result['Link']\n",
    "    if 'None' not in url:\n",
    "        data = requests.get(url)\n",
    "        soup = BeautifulSoup(data.text, 'html.parser')\n",
    "        table = soup.find('table', class_='stat')\n",
    "        if table:\n",
    "            tag_span = table.find('span', class_='nowrap tag')\n",
    "            if tag_span:\n",
    "                link = tag_span.find('a')\n",
    "                if link:\n",
    "                    type = link.text.strip()\n",
    "                    result['Type'] = type\n",
    "    else:\n",
    "        result['Type'] = None\n",
    "    time.sleep(1)\n",
    "\n",
    "for result in results[:5]:\n",
    "    print(result)\n",
    "    "
   ]
  },
  {
   "cell_type": "markdown",
   "id": "10f4048b",
   "metadata": {},
   "source": [
    "## Conclusion\n",
    "\n",
    "We now have the basic information needed for an image classification task for terraria inventories."
   ]
  },
  {
   "cell_type": "code",
   "execution_count": 5,
   "id": "93b1942c",
   "metadata": {},
   "outputs": [],
   "source": [
    "df = pd.DataFrame(results)\n",
    "df.to_csv(\"items.csv\")"
   ]
  }
 ],
 "metadata": {
  "kernelspec": {
   "display_name": "base",
   "language": "python",
   "name": "python3"
  },
  "language_info": {
   "codemirror_mode": {
    "name": "ipython",
    "version": 3
   },
   "file_extension": ".py",
   "mimetype": "text/x-python",
   "name": "python",
   "nbconvert_exporter": "python",
   "pygments_lexer": "ipython3",
   "version": "3.12.7"
  }
 },
 "nbformat": 4,
 "nbformat_minor": 5
}
