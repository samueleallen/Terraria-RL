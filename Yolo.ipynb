{
 "cells": [
  {
   "cell_type": "markdown",
   "id": "ac6c8476",
   "metadata": {},
   "source": [
    "## Enemy Detection"
   ]
  },
  {
   "cell_type": "code",
   "execution_count": 5,
   "id": "31842d46",
   "metadata": {},
   "outputs": [
    {
     "name": "stdout",
     "output_type": "stream",
     "text": [
      "loading Roboflow workspace...\n",
      "loading Roboflow project...\n"
     ]
    },
    {
     "name": "stderr",
     "output_type": "stream",
     "text": [
      "Downloading Dataset Version Zip in Terraria-Object-Detection-5 to yolov8:: 100%|██████████| 65257/65257 [00:01<00:00, 48177.02it/s]"
     ]
    },
    {
     "name": "stdout",
     "output_type": "stream",
     "text": [
      "\n"
     ]
    },
    {
     "name": "stderr",
     "output_type": "stream",
     "text": [
      "\n",
      "Extracting Dataset Version Zip to Terraria-Object-Detection-5 in yolov8:: 100%|██████████| 418/418 [00:00<00:00, 1712.59it/s]\n"
     ]
    }
   ],
   "source": [
    "from roboflow import Roboflow\n",
    "rf = Roboflow(api_key=\"qoqsNNMx1DL2mTS2kBsH\")\n",
    "project = rf.workspace(\"terraria-rl\").project(\"terraria-object-detection-ctgmt\")\n",
    "version = project.version(5)\n",
    "dataset = version.download(\"yolov8\")\n",
    "                "
   ]
  },
  {
   "cell_type": "code",
   "execution_count": null,
   "id": "dbb01895",
   "metadata": {},
   "outputs": [
    {
     "name": "stdout",
     "output_type": "stream",
     "text": [
      "^C\n"
     ]
    }
   ],
   "source": [
    "!yolo task=detect mode=train model=yolov8m.pt data=\"C:/Users/Sam/Documents/Comp Sci/Terraria Bot/Terraria-Bot/Terraria-Object-Detection-5/data.yaml\" epochs=20 imgsz=640 device=0"
   ]
  },
  {
   "cell_type": "code",
   "execution_count": 3,
   "id": "232949b1",
   "metadata": {},
   "outputs": [
    {
     "name": "stdout",
     "output_type": "stream",
     "text": [
      "True\n",
      "11.8\n",
      "True\n",
      "NVIDIA GeForce RTX 3070 Ti\n"
     ]
    }
   ],
   "source": [
    "import torch\n",
    "print(torch.cuda.is_available())\n",
    "print(torch.version.cuda)\n",
    "print(torch.backends.cudnn.is_available())\n",
    "print(torch.cuda.get_device_name(0))"
   ]
  }
 ],
 "metadata": {
  "kernelspec": {
   "display_name": "pytorch_env",
   "language": "python",
   "name": "python3"
  },
  "language_info": {
   "codemirror_mode": {
    "name": "ipython",
    "version": 3
   },
   "file_extension": ".py",
   "mimetype": "text/x-python",
   "name": "python",
   "nbconvert_exporter": "python",
   "pygments_lexer": "ipython3",
   "version": "3.10.18"
  }
 },
 "nbformat": 4,
 "nbformat_minor": 5
}
